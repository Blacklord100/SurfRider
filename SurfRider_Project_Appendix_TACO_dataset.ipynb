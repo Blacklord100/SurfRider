{
 "cells": [
  {
   "cell_type": "code",
   "execution_count": null,
   "metadata": {
    "colab": {},
    "colab_type": "code",
    "id": "hSmuqtfkSt0-"
   },
   "outputs": [],
   "source": [
    "import turicreate as tc\n",
    "import pandas as pd\n",
    "import json\n",
    "import numpy as np\n",
    "import urllib.request\n",
    "from PIL import Image\n",
    "import numpy as np\n",
    "import urllib\n",
    "import cv2"
   ]
  },
  {
   "cell_type": "code",
   "execution_count": null,
   "metadata": {
    "colab": {},
    "colab_type": "code",
    "id": "uqRw4ja2St1H"
   },
   "outputs": [],
   "source": [
    "cd \"Taco\""
   ]
  },
  {
   "cell_type": "code",
   "execution_count": null,
   "metadata": {
    "colab": {},
    "colab_type": "code",
    "id": "aX1YsGNhSt1O",
    "outputId": "287a5933-3d3b-4b02-fa2d-1617e0222142"
   },
   "outputs": [],
   "source": [
    "path = \"/Users/mithurangajendran/Documents/X/Cours/P3/SURFRIDER/Taco\"\n",
    "dataset_path = path\n",
    "anns_file_path = dataset_path + '/' + 'annotations.json'\n",
    "\n",
    "# Read annotations\n",
    "with open(anns_file_path, 'r') as f:\n",
    "    dataset = json.loads(f.read())\n",
    "    \n",
    "categories = dataset['categories']\n",
    "anns = dataset['annotations']\n",
    "imgs = dataset['images']\n",
    "nr_cats = len(categories)\n",
    "nr_annotations = len(anns)\n",
    "nr_images = len(imgs)\n",
    "\n",
    "# Load categories and super categories\n",
    "cat_names = []\n",
    "super_cat_names = []\n",
    "super_cat_ids = {}\n",
    "super_cat_last_name = ''\n",
    "nr_super_cats = 0\n",
    "for cat_it in categories:\n",
    "    cat_names.append(cat_it['name'])\n",
    "    super_cat_name = cat_it['supercategory']\n",
    "    # Adding new supercat\n",
    "    if super_cat_name != super_cat_last_name:\n",
    "        super_cat_names.append(super_cat_name)\n",
    "        super_cat_ids[super_cat_name] = nr_super_cats\n",
    "        super_cat_last_name = super_cat_name\n",
    "        nr_super_cats += 1\n",
    "\n",
    "print('Number of super categories:', nr_super_cats)\n",
    "print('Number of categories:', nr_cats)\n",
    "print('Number of annotations:', nr_annotations)\n",
    "print('Number of images:', nr_images)"
   ]
  },
  {
   "cell_type": "code",
   "execution_count": null,
   "metadata": {
    "colab": {},
    "colab_type": "code",
    "id": "WX0_69UXSt1T"
   },
   "outputs": [],
   "source": [
    "dict_categorizer = \\\n",
    "{'Aluminium foil':\"fragments\",\n",
    " 'Battery':\"others\",\n",
    " 'Blister pack':\"fragments\",\n",
    " 'Bottle':\"bottles\",\n",
    " 'Bottle cap':\"fragments\",\n",
    " 'Broken glass':\"fragments\",\n",
    " 'Can':\"others\",\n",
    " 'Carton':\"others\",\n",
    " 'Cigarette':\"others\",\n",
    " 'Cup':\"fragments\",\n",
    " 'Food waste':\"others\",\n",
    " 'Glass jar':\"others\",\n",
    " 'Lid':\"fragments\",\n",
    " 'Other plastic':\"fragments\",\n",
    " 'Paper':\"others\",\n",
    " 'Paper bag':\"fragments\",\n",
    " 'Plastic bag & wrapper':\"fragments\",\n",
    " 'Plastic container':\"fragments\",\n",
    " 'Plastic glooves':\"fragments\",\n",
    " 'Plastic utensils':\"fragments\",\n",
    " 'Pop tab':\"others\",\n",
    " 'Rope & strings':\"fragments\",\n",
    " 'Scrap metal':\"others\",\n",
    " 'Shoe':\"others\",\n",
    " 'Squeezable tube':\"fragments\",\n",
    " 'Straw':\"fragments\",\n",
    " 'Styrofoam piece':\"fragments\",\n",
    " 'Unlabeled litter':\"fragments\"}\n",
    "\n",
    "def bucketer(category):\n",
    "    try:\n",
    "        return dict_categorizer[category]\n",
    "    except:\n",
    "        return \"others\"\n",
    "    #return "
   ]
  },
  {
   "cell_type": "code",
   "execution_count": null,
   "metadata": {
    "colab": {},
    "colab_type": "code",
    "id": "X2rVZEv1St1Y"
   },
   "outputs": [],
   "source": [
    "cat_1 = pd.DataFrame.from_dict(categories, orient='columns').drop(columns=\"name\")\n",
    "anns_1 = pd.DataFrame.from_dict(anns, orient='columns').drop(columns=[\"segmentation\",\"area\",\"iscrowd\"])\n",
    "imgs_1 = pd.DataFrame.from_dict(imgs, orient='columns').drop(columns=[\"file_name\",\"license\",\n",
    "                                       \"coco_url\",\"date_captured\"])\n",
    "\n",
    "merged = anns_1.merge(imgs_1, left_on=\"image_id\", right_on=\"id\")\n",
    "merged = merged.merge(cat_1, left_on=\"category_id\",right_on=\"id\")\n",
    "merged = merged.drop(columns=[\"category_id\",\"id_y\",\"id\"])\n",
    "\n",
    "merged.supercategory = merged.supercategory.apply(lambda category: bucketer(category))"
   ]
  },
  {
   "cell_type": "code",
   "execution_count": null,
   "metadata": {
    "colab": {},
    "colab_type": "code",
    "id": "iHEJUn6xSt1d"
   },
   "outputs": [],
   "source": [
    "#merged = merged[:100]"
   ]
  },
  {
   "cell_type": "code",
   "execution_count": null,
   "metadata": {
    "colab": {},
    "colab_type": "code",
    "id": "Axo5T4p0St1i"
   },
   "outputs": [],
   "source": [
    "def url_to_image(url):\n",
    "    resp = urllib.request.urlopen(url)\n",
    "    image = np.asarray(bytearray(resp.read()), dtype=\"uint8\")\n",
    "    image = cv2.imdecode(image, cv2.IMREAD_COLOR)\n",
    "    image = Image.fromarray(image)\n",
    "    return image\n",
    "\n",
    "def clean_annotations(line):\n",
    "\n",
    "    label = line['supercategory']\n",
    "    coordinates = line['bbox']\n",
    "    coordinates = {\"x\": int(coordinates[0]),\n",
    "                   \"y\": int(coordinates[1]),\n",
    "                   \"width\": int(coordinates[2]),\n",
    "                   \"height\": int(coordinates[3])}\n",
    "    return {\"label\":label, \"coordinates\":coordinates}\n",
    "\n",
    "def dl_img(url):\n",
    "    try:\n",
    "        return tc.Image(url)\n",
    "        #return url_to_image(url)\n",
    "    except:\n",
    "        return np.nan\n",
    "    \n",
    "def label_sizer(line):\n",
    "    L=[]\n",
    "    for i in range(len(line[\"annotations\"])):\n",
    "        label = line[\"annotations\"][i][\"label\"]\n",
    "        coordinates = line[\"annotations\"][i][\"coordinates\"]\n",
    "        \n",
    "        r_height = line.flickr_640_url.height / line[\"height\"]\n",
    "        r_width = line.flickr_640_url.width / line[\"width\"]\n",
    "        \n",
    "        coordinate = {\"x\": r_width*(int(coordinates[\"x\"])+float(coordinates[\"width\"])/2),\n",
    "                   \"y\": r_height*(int(coordinates[\"y\"])+float(coordinates[\"height\"])/2),\n",
    "                   \"height\": r_height*int(coordinates[\"height\"]),\n",
    "                  \"width\": r_width*int(coordinates[\"width\"])}\n",
    "        L.append({\"label\":label, \"coordinates\":coordinate})\n",
    "    return L"
   ]
  },
  {
   "cell_type": "code",
   "execution_count": null,
   "metadata": {
    "colab": {},
    "colab_type": "code",
    "id": "IKm9uGNpSt1n"
   },
   "outputs": [],
   "source": [
    "merged[\"annotations\"] = merged.apply(lambda line: clean_annotations(line), \n",
    "                                     axis=1)\n",
    "\n",
    "merged = merged.drop(columns=[\"bbox\",\"supercategory\",\"id_x\"])\n",
    "details_to_merge = merged[[\"image_id\",\"width\",\"height\"]].drop_duplicates().copy()\n",
    "\n",
    "merged = pd.DataFrame(merged.groupby([\"image_id\",\n",
    "        \"flickr_640_url\"]).apply(lambda x: list(x.annotations))).reset_index(\"flickr_640_url\")\\\n",
    "    .rename(columns = {0:\"annotations\"})\n",
    "\n",
    "merged['flickr_640_url'] = merged['flickr_640_url'].apply(lambda x: dl_img(str(x)))\n",
    "\n",
    "merged = merged.reset_index().merge(details_to_merge, on=\"image_id\", how=\"inner\")\n",
    "\n",
    "merged[\"annotations\"] = merged.apply(lambda x: label_sizer(x),axis=1)"
   ]
  },
  {
   "cell_type": "code",
   "execution_count": null,
   "metadata": {
    "colab": {},
    "colab_type": "code",
    "id": "fdLL0IUjSt1r"
   },
   "outputs": [],
   "source": [
    "SF = tc.SFrame(data=merged,format=\"dataframe\").rename({'flickr_640_url': 'image'})"
   ]
  },
  {
   "cell_type": "code",
   "execution_count": null,
   "metadata": {
    "colab": {},
    "colab_type": "code",
    "id": "r4Od-4ITSt1w",
    "outputId": "958b4cda-41e7-4f86-8ba4-8ff1a8da5d93"
   },
   "outputs": [],
   "source": [
    "SF.remove_columns(column_names=[\"image_id\",\"width\",\"height\"], inplace=True)"
   ]
  },
  {
   "cell_type": "code",
   "execution_count": null,
   "metadata": {
    "colab": {},
    "colab_type": "code",
    "id": "RSFg0wuoSt11"
   },
   "outputs": [],
   "source": [
    "SF['image_with_ground_truth'] = tc.object_detector.util.draw_bounding_boxes(SF['image'], SF['annotations'])\n",
    "#SF.explore(\"epic\")"
   ]
  },
  {
   "cell_type": "code",
   "execution_count": null,
   "metadata": {
    "colab": {},
    "colab_type": "code",
    "id": "Ue4dRw8HSt16"
   },
   "outputs": [],
   "source": [
    "SF.save(\"to_load_Taco\")\n",
    "#Taco = tc.load_sframe(\"to_load_Taco\")\n",
    "#SF.append(Taco).tail()"
   ]
  },
  {
   "cell_type": "code",
   "execution_count": null,
   "metadata": {
    "colab": {},
    "colab_type": "code",
    "id": "HOLAyPDSSt2C",
    "outputId": "d01aab36-bfae-4d99-c9a9-4860b715560b"
   },
   "outputs": [],
   "source": [
    "SF.explore()"
   ]
  },
  {
   "cell_type": "code",
   "execution_count": null,
   "metadata": {
    "colab": {},
    "colab_type": "code",
    "id": "cX6jAwM9St2l"
   },
   "outputs": [],
   "source": []
  }
 ],
 "metadata": {
  "colab": {
   "name": "SurfRider_Project_Appendix_TACO_dataset.ipynb",
   "provenance": []
  },
  "kernelspec": {
   "display_name": "Python 3",
   "language": "python",
   "name": "python3"
  },
  "language_info": {
   "codemirror_mode": {
    "name": "ipython",
    "version": 3
   },
   "file_extension": ".py",
   "mimetype": "text/x-python",
   "name": "python",
   "nbconvert_exporter": "python",
   "pygments_lexer": "ipython3",
   "version": "3.6.8"
  }
 },
 "nbformat": 4,
 "nbformat_minor": 1
}
